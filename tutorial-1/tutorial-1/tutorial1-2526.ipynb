{
 "cells": [
  {
   "cell_type": "markdown",
   "metadata": {
    "id": "rduSZj7b5eiP",
    "slideshow": {
     "slide_type": "slide"
    }
   },
   "source": [
    "# Tutorial 1\n",
    "\n",
    "**Credits**: Andrea Galassi, Federico Ruggeri, Eleonora Mancini, Paolo Torroni\n",
    "\n",
    "**Keywords**: Data loading, Feature Extraction, Machine Learning, Text Classification, Sentiment Analysis"
   ]
  },
  {
   "cell_type": "markdown",
   "metadata": {
    "id": "m3wzWLL-LiKd",
    "slideshow": {
     "slide_type": "slide"
    }
   },
   "source": [
    "# Contact\n",
    "\n",
    "For any doubt, question, issue or help, you can always contact us at the following email addresses:\n",
    "\n",
    "Teaching Assistants:\n",
    "\n",
    "* Federico Ruggeri -> federico.ruggeri6@unibo.it\n",
    "* Eleonora Mancini -> e.mancini@unibo.it\n",
    "\n",
    "Professor:\n",
    "\n",
    "* Paolo Torroni -> p.torroni@unibo.it"
   ]
  },
  {
   "cell_type": "markdown",
   "metadata": {
    "slideshow": {
     "slide_type": "subslide"
    }
   },
   "source": [
    "## Important\n",
    "\n",
    "**Make sure** to put all of us in cc when contacting us via mail!"
   ]
  },
  {
   "cell_type": "markdown",
   "metadata": {
    "slideshow": {
     "slide_type": "slide"
    }
   },
   "source": [
    "## PART I ($\\sim$10 mins)\n",
    "\n",
    "*   How to **download** a dataset.\n",
    "*   How to **inspect** a dataset."
   ]
  },
  {
   "cell_type": "markdown",
   "metadata": {
    "slideshow": {
     "slide_type": "slide"
    }
   },
   "source": [
    "## PART II ($\\sim$20 mins)\n",
    "\n",
    "* How to perform basic **text pre-processing** to identify input features."
   ]
  },
  {
   "cell_type": "markdown",
   "metadata": {
    "slideshow": {
     "slide_type": "slide"
    }
   },
   "source": [
    "## PART III ($\\sim$20 mins)\n",
    "\n",
    "*   How to **train a classifier** on identified input features for sentiment classification.\n",
    "*   How to **evaluate** model performance and **inspect** its predictions."
   ]
  },
  {
   "cell_type": "markdown",
   "metadata": {
    "slideshow": {
     "slide_type": "slide"
    }
   },
   "source": [
    "## Task\n",
    "\n",
    "We consider the task of **document classification**.\n",
    "\n",
    "Specifically, we consider document **sentiment analysis** on movie reviews."
   ]
  },
  {
   "cell_type": "markdown",
   "metadata": {
    "id": "c4-E45fvrp3Z",
    "slideshow": {
     "slide_type": "slide"
    }
   },
   "source": [
    "## Preliminaries\n",
    "\n",
    "First of all, we need to import some useful packages that we will use during this hands-on session."
   ]
  },
  {
   "cell_type": "code",
   "execution_count": 1,
   "metadata": {
    "id": "of3D92OeWV8_",
    "scrolled": false,
    "slideshow": {
     "slide_type": "skip"
    }
   },
   "outputs": [],
   "source": [
    "# file management\n",
    "import sys\n",
    "import shutil\n",
    "import urllib\n",
    "import tarfile\n",
    "from pathlib import Path\n",
    "\n",
    "# dataframe management\n",
    "import pandas as pd\n",
    "\n",
    "# data manipulation\n",
    "import numpy as np\n",
    "\n",
    "# for readability\n",
    "from typing import Iterable\n",
    "\n",
    "# viz\n",
    "from tqdm import tqdm"
   ]
  },
  {
   "cell_type": "code",
   "execution_count": 2,
   "metadata": {
    "scrolled": false,
    "slideshow": {
     "slide_type": "skip"
    }
   },
   "outputs": [
    {
     "data": {
      "text/plain": [
       "{'width': 1024, 'height': 768, 'scroll': True}"
      ]
     },
     "execution_count": 2,
     "metadata": {},
     "output_type": "execute_result"
    }
   ],
   "source": [
    "from notebook.services.config import ConfigManager\n",
    "cm = ConfigManager()\n",
    "cm.update('livereveal', {\n",
    "        'width': 1024,\n",
    "        'height': 768,\n",
    "        'scroll': True,\n",
    "})"
   ]
  },
  {
   "cell_type": "markdown",
   "metadata": {
    "id": "ARCKuf1S5GKg",
    "slideshow": {
     "slide_type": "slide"
    }
   },
   "source": [
    "# 1. Downloading the dataset"
   ]
  },
  {
   "cell_type": "markdown",
   "metadata": {
    "id": "d--rS8W95i62",
    "slideshow": {
     "slide_type": "subslide"
    }
   },
   "source": [
    "We download the IMDB movie reviews dataset."
   ]
  },
  {
   "cell_type": "code",
   "execution_count": 3,
   "metadata": {
    "scrolled": false,
    "slideshow": {
     "slide_type": "skip"
    }
   },
   "outputs": [],
   "source": [
    "class DownloadProgressBar(tqdm):\n",
    "    def update_to(self, b=1, bsize=1, tsize=None):\n",
    "        if tsize is not None:\n",
    "            self.total = tsize\n",
    "        self.update(b * bsize - self.n)\n",
    "        \n",
    "def download_url(download_path: Path, url: str):\n",
    "    with DownloadProgressBar(unit='B', unit_scale=True,\n",
    "                             miniters=1, desc=url.split('/')[-1]) as t:\n",
    "        urllib.request.urlretrieve(url, filename=download_path, reporthook=t.update_to)\n"
   ]
  },
  {
   "cell_type": "code",
   "execution_count": 4,
   "metadata": {
    "scrolled": false,
    "slideshow": {
     "slide_type": "skip"
    }
   },
   "outputs": [],
   "source": [
    "def download_dataset(download_path: Path, url: str):\n",
    "    print(\"Downloading dataset...\")\n",
    "    download_url(url=url, download_path=download_path)\n",
    "    print(\"Download complete!\")\n",
    "\n",
    "def extract_dataset(download_path: Path, extract_path: Path):\n",
    "    print(\"Extracting dataset... (it may take a while...)\")\n",
    "    with tarfile.open(download_path) as loaded_tar:\n",
    "        loaded_tar.extractall(extract_path)\n",
    "    print(\"Extraction completed!\")"
   ]
  },
  {
   "cell_type": "code",
   "execution_count": 5,
   "metadata": {
    "id": "NSvqBcKJ7iTY",
    "scrolled": true,
    "slideshow": {
     "slide_type": "subslide"
    }
   },
   "outputs": [
    {
     "name": "stdout",
     "output_type": "stream",
     "text": [
      "Current work directory: c:\\Users\\giuli\\Documents\\Progetti uni\\NLP-LAB\\tutorial-1\\tutorial-1\n"
     ]
    }
   ],
   "source": [
    "url = \"http://ai.stanford.edu/~amaas/data/sentiment/aclImdb_v1.tar.gz\"\n",
    "dataset_name = \"aclImdb\"\n",
    "\n",
    "print(f\"Current work directory: {Path.cwd()}\")\n",
    "dataset_folder = Path.cwd().joinpath(\"Datasets\")\n"
   ]
  },
  {
   "cell_type": "code",
   "execution_count": 6,
   "metadata": {
    "scrolled": false,
    "slideshow": {
     "slide_type": "subslide"
    }
   },
   "outputs": [],
   "source": [
    "if not dataset_folder.exists():\n",
    "    dataset_folder.mkdir(parents=True)\n",
    "\n",
    "dataset_tar_path = dataset_folder.joinpath(\"Movies.tar.gz\")\n",
    "dataset_path = dataset_folder.joinpath(dataset_name)\n",
    "\n",
    "if not dataset_tar_path.exists():\n",
    "    download_dataset(dataset_tar_path, url)\n",
    "\n",
    "if not dataset_path.exists():\n",
    "    extract_dataset(dataset_tar_path, dataset_folder)"
   ]
  },
  {
   "cell_type": "markdown",
   "metadata": {
    "id": "I3f93BOW3ziB",
    "slideshow": {
     "slide_type": "subslide"
    }
   },
   "source": [
    "Let's have a look at the files we have downloaded to understand the dataset structure."
   ]
  },
  {
   "cell_type": "code",
   "execution_count": 7,
   "metadata": {
    "colab": {
     "base_uri": "https://localhost:8080/"
    },
    "id": "MlC6O8M1ITgp",
    "outputId": "a9ecbb13-5d51-4ac8-faf4-018b7c5a7df0",
    "scrolled": false,
    "slideshow": {
     "slide_type": "fragment"
    }
   },
   "outputs": [
    {
     "name": "stdout",
     "output_type": "stream",
     "text": [
      "Bromwell High is a cartoon comedy. It ran at the same time as some other programs about school life, such as \"Teachers\". My 35 years in the teaching profession lead me to believe that Bromwell High's satire is much closer to reality than is \"Teachers\". The scramble to survive financially, the insightful students who can see right through their pathetic teachers' pomp, the pettiness of the whole situation, all remind me of the schools I knew and their students. When I saw the episode in which a student repeatedly tried to burn down the school, I immediately recalled ......... at .......... High. A classic line: INSPECTOR: I'm here to sack one of your teachers. STUDENT: Welcome to Bromwell High. I expect that many adults of my age think that Bromwell High is far fetched. What a pity that it isn't!\n"
     ]
    }
   ],
   "source": [
    "# an example\n",
    "file_path = dataset_folder.joinpath(dataset_name,\n",
    "                                    'train',\n",
    "                                    'pos', \n",
    "                                    \"0_9.txt\")\n",
    "\n",
    "if file_path.is_file():\n",
    "    # open the file\n",
    "    with file_path.open(mode='r', encoding='utf-8') as text_file:\n",
    "        text = text_file.read()\n",
    "        print(text)"
   ]
  },
  {
   "cell_type": "markdown",
   "metadata": {
    "id": "-FexYdgu87Q3",
    "slideshow": {
     "slide_type": "slide"
    }
   },
   "source": [
    "## 1.1 Encode the dataset into a pandas.DataFrame\n",
    "\n",
    "We encode the loaded dataset into a dataframe to better access to its content."
   ]
  },
  {
   "cell_type": "code",
   "execution_count": 8,
   "metadata": {
    "colab": {
     "base_uri": "https://localhost:8080/"
    },
    "id": "4u8aN92x9Aw1",
    "outputId": "06f7b1a8-d72c-4e17-f347-7cce3318b31d",
    "scrolled": false,
    "slideshow": {
     "slide_type": "skip"
    }
   },
   "outputs": [],
   "source": [
    "dataframe_rows = []\n",
    "\n",
    "for split in ['train', 'test']:\n",
    "    for sentiment in ['pos', 'neg']:\n",
    "        folder = dataset_folder.joinpath(dataset_name, split, sentiment)\n",
    "        for file_path in folder.glob('*.txt'):            \n",
    "            with file_path.open(mode='r', encoding='utf-8') as text_file:\n",
    "                text = text_file.read()\n",
    "                score = file_path.stem.split(\"_\")[1]\n",
    "                score = int(score)\n",
    "                file_id = file_path.stem.split(\"_\")[0]\n",
    "\n",
    "                num_sentiment = 1 if sentiment == 'pos' else 0\n",
    "\n",
    "                dataframe_row = {\n",
    "                    \"file_id\": file_id,\n",
    "                    \"score\": score,\n",
    "                    \"sentiment\": num_sentiment,\n",
    "                    \"split\": split,\n",
    "                    \"text\": text\n",
    "                }\n",
    "\n",
    "                dataframe_rows.append(dataframe_row)"
   ]
  },
  {
   "cell_type": "code",
   "execution_count": 9,
   "metadata": {
    "scrolled": false,
    "slideshow": {
     "slide_type": "skip"
    }
   },
   "outputs": [],
   "source": [
    "folder = Path.cwd().joinpath(\"Datasets\", \"Dataframes\", dataset_name)\n",
    "if not folder.exists():\n",
    "    folder.mkdir(parents=True)\n",
    "\n",
    "# transform the list of rows in a proper dataframe\n",
    "df = pd.DataFrame(dataframe_rows)\n",
    "df = df[[\"file_id\", \n",
    "         \"score\",\n",
    "         \"sentiment\",\n",
    "         \"split\",\n",
    "         \"text\"]\n",
    "       ]\n",
    "df_path = folder.with_name(dataset_name + \".pkl\")\n",
    "df.to_pickle(df_path)"
   ]
  },
  {
   "cell_type": "markdown",
   "metadata": {
    "id": "N90TSajWZD2Z",
    "slideshow": {
     "slide_type": "slide"
    }
   },
   "source": [
    "## 1.2 Inspecting the dataset\n",
    "\n",
    "We first have a look at the dataframe structure."
   ]
  },
  {
   "cell_type": "code",
   "execution_count": 10,
   "metadata": {
    "colab": {
     "base_uri": "https://localhost:8080/"
    },
    "id": "GCs9IEO5F-Vt",
    "outputId": "ba1a3f1f-b218-43d2-cf9a-6ed25fc59a49",
    "scrolled": true,
    "slideshow": {
     "slide_type": "subslide"
    }
   },
   "outputs": [
    {
     "name": "stdout",
     "output_type": "stream",
     "text": [
      "Dataframe structure:\n",
      "      file_id  score  sentiment  split  \\\n",
      "0           0      9          1  train   \n",
      "1       10000      8          1  train   \n",
      "2       10001     10          1  train   \n",
      "3       10002      7          1  train   \n",
      "4       10003      8          1  train   \n",
      "...       ...    ...        ...    ...   \n",
      "49995    9998      1          0   test   \n",
      "49996    9999      1          0   test   \n",
      "49997     999      3          0   test   \n",
      "49998      99      3          0   test   \n",
      "49999       9      4          0   test   \n",
      "\n",
      "                                                    text  \n",
      "0      Bromwell High is a cartoon comedy. It ran at t...  \n",
      "1      Homelessness (or Houselessness as George Carli...  \n",
      "2      Brilliant over-acting by Lesley Ann Warren. Be...  \n",
      "3      This is easily the most underrated film inn th...  \n",
      "4      This is not the typical Mel Brooks film. It wa...  \n",
      "...                                                  ...  \n",
      "49995  I occasionally let my kids watch this garbage ...  \n",
      "49996  When all we have anymore is pretty much realit...  \n",
      "49997  The basic genre is a thriller intercut with an...  \n",
      "49998  Four things intrigued me as to this film - fir...  \n",
      "49999  David Bryce's comments nearby are exceptionall...  \n",
      "\n",
      "[50000 rows x 5 columns]\n",
      "\n"
     ]
    }
   ],
   "source": [
    "print(\"Dataframe structure:\")\n",
    "print(df)\n",
    "print()"
   ]
  },
  {
   "cell_type": "code",
   "execution_count": 11,
   "metadata": {
    "scrolled": false,
    "slideshow": {
     "slide_type": "subslide"
    }
   },
   "outputs": [
    {
     "name": "stdout",
     "output_type": "stream",
     "text": [
      "Total rows 50000\n",
      "\n"
     ]
    }
   ],
   "source": [
    "print(\"Total rows %d\" % (len(df)))\n",
    "print()"
   ]
  },
  {
   "cell_type": "code",
   "execution_count": 12,
   "metadata": {
    "colab": {
     "base_uri": "https://localhost:8080/"
    },
    "id": "dEgevug_MxjR",
    "outputId": "16cbde26-7758-4347-f073-89a84ab505ac",
    "scrolled": false,
    "slideshow": {
     "slide_type": "subslide"
    }
   },
   "outputs": [
    {
     "name": "stdout",
     "output_type": "stream",
     "text": [
      "Distribution of scores: \n",
      "score\n",
      "1     10122\n",
      "10     9731\n",
      "8      5859\n",
      "4      5331\n",
      "3      4961\n",
      "7      4803\n",
      "9      4607\n",
      "2      4586\n",
      "Name: count, dtype: int64\n",
      "\n"
     ]
    }
   ],
   "source": [
    "print(\"Distribution of scores: \")\n",
    "print(df['score'].value_counts())\n",
    "print()"
   ]
  },
  {
   "cell_type": "code",
   "execution_count": 13,
   "metadata": {
    "scrolled": false,
    "slideshow": {
     "slide_type": "subslide"
    }
   },
   "outputs": [
    {
     "name": "stdout",
     "output_type": "stream",
     "text": [
      "Distribution of sentiment: \n",
      "sentiment\n",
      "1    25000\n",
      "0    25000\n",
      "Name: count, dtype: int64\n",
      "\n"
     ]
    }
   ],
   "source": [
    "print(\"Distribution of sentiment: \")\n",
    "print(df['sentiment'].value_counts())\n",
    "print()"
   ]
  },
  {
   "cell_type": "code",
   "execution_count": 14,
   "metadata": {
    "scrolled": false,
    "slideshow": {
     "slide_type": "subslide"
    }
   },
   "outputs": [
    {
     "name": "stdout",
     "output_type": "stream",
     "text": [
      "Distribution of splits: \n",
      "split\n",
      "train    25000\n",
      "test     25000\n",
      "Name: count, dtype: int64\n",
      "\n"
     ]
    }
   ],
   "source": [
    "print(\"Distribution of splits: \")\n",
    "print(df['split'].value_counts())\n",
    "print()"
   ]
  },
  {
   "cell_type": "code",
   "execution_count": 15,
   "metadata": {
    "colab": {
     "base_uri": "https://localhost:8080/"
    },
    "id": "dZQddWKfMzBr",
    "outputId": "884e5520-382b-4277-dcd8-a5c459678966",
    "scrolled": true,
    "slideshow": {
     "slide_type": "subslide"
    }
   },
   "outputs": [
    {
     "name": "stdout",
     "output_type": "stream",
     "text": [
      "Distribution of sentiments in split: \n",
      "split  sentiment\n",
      "test   0            12500\n",
      "       1            12500\n",
      "train  0            12500\n",
      "       1            12500\n",
      "dtype: int64\n",
      "\n"
     ]
    }
   ],
   "source": [
    "print(\"Distribution of sentiments in split: \")\n",
    "print(df.groupby(['split','sentiment']).size())\n",
    "print()"
   ]
  },
  {
   "cell_type": "code",
   "execution_count": 16,
   "metadata": {
    "scrolled": false,
    "slideshow": {
     "slide_type": "subslide"
    }
   },
   "outputs": [
    {
     "name": "stdout",
     "output_type": "stream",
     "text": [
      "Distribution of scores in split: \n",
      "split  score\n",
      "test   1        5022\n",
      "       2        2302\n",
      "       3        2541\n",
      "       4        2635\n",
      "       7        2307\n",
      "       8        2850\n",
      "       9        2344\n",
      "       10       4999\n",
      "train  1        5100\n",
      "       2        2284\n",
      "       3        2420\n",
      "       4        2696\n",
      "       7        2496\n",
      "       8        3009\n",
      "       9        2263\n",
      "       10       4732\n",
      "dtype: int64\n",
      "\n"
     ]
    }
   ],
   "source": [
    "print(\"Distribution of scores in split: \")\n",
    "print(df.groupby(['split','score']).size())\n",
    "print()"
   ]
  },
  {
   "cell_type": "code",
   "execution_count": 17,
   "metadata": {
    "scrolled": false,
    "slideshow": {
     "slide_type": "subslide"
    }
   },
   "outputs": [
    {
     "name": "stdout",
     "output_type": "stream",
     "text": [
      "Differences in score distribution in split: \n",
      "score  split\n",
      "1      test     5022\n",
      "       train    5100\n",
      "2      test     2302\n",
      "       train    2284\n",
      "3      test     2541\n",
      "       train    2420\n",
      "4      test     2635\n",
      "       train    2696\n",
      "7      test     2307\n",
      "       train    2496\n",
      "8      test     2850\n",
      "       train    3009\n",
      "9      test     2344\n",
      "       train    2263\n",
      "10     test     4999\n",
      "       train    4732\n",
      "dtype: int64\n",
      "\n"
     ]
    }
   ],
   "source": [
    "print(\"Differences in score distribution in split: \")\n",
    "print(df.groupby(['score','split',]).size())\n",
    "print()"
   ]
  },
  {
   "cell_type": "code",
   "execution_count": 18,
   "metadata": {
    "colab": {
     "base_uri": "https://localhost:8080/"
    },
    "id": "Peg97aWQM0EC",
    "outputId": "98b5bb2d-cd93-45a5-9f0b-afbfcc3a5d06",
    "scrolled": false,
    "slideshow": {
     "slide_type": "subslide"
    }
   },
   "outputs": [
    {
     "name": "stdout",
     "output_type": "stream",
     "text": [
      "Differences among score classes in the splits: \n",
      "sentiment  score  split\n",
      "0          1      test     5022\n",
      "                  train    5100\n",
      "           2      test     2302\n",
      "                  train    2284\n",
      "           3      test     2541\n",
      "                  train    2420\n",
      "           4      test     2635\n",
      "                  train    2696\n",
      "1          7      test     2307\n",
      "                  train    2496\n",
      "           8      test     2850\n",
      "                  train    3009\n",
      "           9      test     2344\n",
      "                  train    2263\n",
      "           10     test     4999\n",
      "                  train    4732\n",
      "dtype: int64\n",
      "\n"
     ]
    }
   ],
   "source": [
    "print(\"Differences among score classes in the splits: \")\n",
    "print(df.groupby(['sentiment','score','split']).size())\n",
    "print()"
   ]
  },
  {
   "cell_type": "markdown",
   "metadata": {
    "id": "XBglaYxGN9oz",
    "slideshow": {
     "slide_type": "slide"
    }
   },
   "source": [
    "### 1.2.1 Visualization"
   ]
  },
  {
   "cell_type": "code",
   "execution_count": 19,
   "metadata": {
    "scrolled": false,
    "slideshow": {
     "slide_type": "skip"
    }
   },
   "outputs": [],
   "source": [
    "# Preliminaries\n",
    "import matplotlib.pyplot as plt"
   ]
  },
  {
   "cell_type": "markdown",
   "metadata": {
    "slideshow": {
     "slide_type": "subslide"
    }
   },
   "source": [
    "We first visualize sentiment class distribution."
   ]
  },
  {
   "cell_type": "code",
   "execution_count": 20,
   "metadata": {
    "scrolled": false,
    "slideshow": {
     "slide_type": "skip"
    }
   },
   "outputs": [],
   "source": [
    "train_labels = df[df.split == 'train'].sentiment.values\n",
    "test_labels = df[df.split == 'test'].sentiment.values"
   ]
  },
  {
   "cell_type": "code",
   "execution_count": 21,
   "metadata": {
    "scrolled": false,
    "slideshow": {
     "slide_type": "subslide"
    }
   },
   "outputs": [
    {
     "data": {
      "image/png": "[encoded data removed]",
      "text/plain": [
       "<Figure size 640x480 with 1 Axes>"
      ]
     },
     "metadata": {},
     "output_type": "display_data"
    }
   ],
   "source": [
    "plt.hist([train_labels,test_labels], bins=2, label=['train','test'],\n",
    "         color=[\"red\", \"blue\"], align=\"mid\")\n",
    "plt.legend(loc='upper center')\n",
    "plt.title('Class distribution')\n",
    "plt.xlabel('Sentiment')\n",
    "plt.ylabel('# Samples')\n",
    "plt.show()"
   ]
  },
  {
   "cell_type": "markdown",
   "metadata": {
    "slideshow": {
     "slide_type": "subslide"
    }
   },
   "source": [
    "Then we visualize sentiment scores."
   ]
  },
  {
   "cell_type": "code",
   "execution_count": 22,
   "metadata": {
    "scrolled": false,
    "slideshow": {
     "slide_type": "skip"
    }
   },
   "outputs": [],
   "source": [
    "train_scores = df[df.split == 'train'].score.values\n",
    "test_scores = df[df.split == 'test'].score.values"
   ]
  },
  {
   "cell_type": "code",
   "execution_count": 23,
   "metadata": {
    "colab": {
     "base_uri": "https://localhost:8080/",
     "height": 265
    },
    "id": "UMy0YgDBN8rl",
    "outputId": "713b68d0-2387-4423-bb5f-98a645b82eee",
    "scrolled": false,
    "slideshow": {
     "slide_type": "subslide"
    }
   },
   "outputs": [
    {
     "data": {
      "image/png": "[encoded data removed]",
      "text/plain": [
       "<Figure size 640x480 with 1 Axes>"
      ]
     },
     "metadata": {},
     "output_type": "display_data"
    }
   ],
   "source": [
    "plt.xticks(range(1,11))\n",
    "plt.hist([train_scores,test_scores], bins=10, label=['train','test'], color=[\"red\", \"blue\"], align=\"mid\")\n",
    "plt.legend(loc='upper center')\n",
    "plt.title('Score distribution')\n",
    "plt.xlabel('Score')\n",
    "plt.ylabel('# Samples')\n",
    "\n",
    "plt.show()"
   ]
  },
  {
   "cell_type": "code",
   "execution_count": 24,
   "metadata": {
    "colab": {
     "base_uri": "https://localhost:8080/",
     "height": 545
    },
    "id": "gsniJ_VdV-A-",
    "outputId": "32e3116e-37df-40bd-c67e-03202233c3c4",
    "scrolled": false,
    "slideshow": {
     "slide_type": "subslide"
    }
   },
   "outputs": [
    {
     "data": {
      "image/png": "[encoded data removed]",
      "text/plain": [
       "<Figure size 640x480 with 1 Axes>"
      ]
     },
     "metadata": {},
     "output_type": "display_data"
    }
   ],
   "source": [
    "plot1 = plt.figure(1)\n",
    "plt.hist(train_scores, 10, color=\"red\")\n",
    "plt.xlabel('Score')\n",
    "plt.ylabel('# Samples')\n",
    "plt.title(\"Train\")\n",
    "plt.show()"
   ]
  },
  {
   "cell_type": "code",
   "execution_count": 25,
   "metadata": {
    "scrolled": false,
    "slideshow": {
     "slide_type": "subslide"
    }
   },
   "outputs": [
    {
     "data": {
      "image/png": "[encoded data removed]",
      "text/plain": [
       "<Figure size 640x480 with 1 Axes>"
      ]
     },
     "metadata": {},
     "output_type": "display_data"
    }
   ],
   "source": [
    "plot2 = plt.figure(2)\n",
    "plt.hist(test_scores, 10, color=\"blue\")\n",
    "plt.xlabel('Score')\n",
    "plt.ylabel('# Samples')\n",
    "plt.title(\"Test\")\n",
    "plt.show()"
   ]
  },
  {
   "cell_type": "markdown",
   "metadata": {
    "slideshow": {
     "slide_type": "subslide"
    }
   },
   "source": [
    "Lastly, we check text length distribution."
   ]
  },
  {
   "cell_type": "code",
   "execution_count": 26,
   "metadata": {
    "scrolled": false,
    "slideshow": {
     "slide_type": "fragment"
    }
   },
   "outputs": [
    {
     "name": "stderr",
     "output_type": "stream",
     "text": [
      "[nltk_data] Downloading package punkt_tab to\n",
      "[nltk_data]     C:\\Users\\giuli\\AppData\\Roaming\\nltk_data...\n",
      "[nltk_data]   Package punkt_tab is already up-to-date!\n",
      "[nltk_data] Downloading package punkt to\n",
      "[nltk_data]     C:\\Users\\giuli\\AppData\\Roaming\\nltk_data...\n",
      "[nltk_data]   Package punkt is already up-to-date!\n",
      "100%|██████████| 25000/25000 [00:25<00:00, 967.20it/s] \n",
      "100%|██████████| 25000/25000 [00:23<00:00, 1046.28it/s]\n"
     ]
    }
   ],
   "source": [
    "import nltk\n",
    "from nltk.tokenize import word_tokenize\n",
    "\n",
    "# necessary for being able to tokenize\n",
    "nltk.download('punkt_tab')\n",
    "nltk.download('punkt')\n",
    "\n",
    "train_texts = df[df.split == 'train'].text.values\n",
    "test_texts = df[df.split == 'test'].text.values\n",
    "\n",
    "train_lengths = [len(word_tokenize(text)) for text in tqdm(train_texts)]\n",
    "test_lengths = [len(word_tokenize(text)) for text in tqdm(test_texts)]"
   ]
  },
  {
   "cell_type": "code",
   "execution_count": 27,
   "metadata": {
    "scrolled": false,
    "slideshow": {
     "slide_type": "subslide"
    }
   },
   "outputs": [
    {
     "data": {
      "image/png": "[encoded data removed]",
      "text/plain": [
       "<Figure size 640x480 with 1 Axes>"
      ]
     },
     "metadata": {},
     "output_type": "display_data"
    }
   ],
   "source": [
    "plot1 = plt.figure(1)\n",
    "plt.hist(train_lengths, color=\"red\")\n",
    "plt.xlabel('Word count')\n",
    "plt.ylabel('# Samples')\n",
    "plt.title(\"Train\")\n",
    "plt.show()"
   ]
  },
  {
   "cell_type": "code",
   "execution_count": 28,
   "metadata": {
    "scrolled": false,
    "slideshow": {
     "slide_type": "subslide"
    }
   },
   "outputs": [
    {
     "data": {
      "image/png": "[encoded data removed]",
      "text/plain": [
       "<Figure size 640x480 with 1 Axes>"
      ]
     },
     "metadata": {},
     "output_type": "display_data"
    }
   ],
   "source": [
    "plot2 = plt.figure(2)\n",
    "plt.hist(test_lengths, 10, color=\"blue\")\n",
    "plt.xlabel('Word count')\n",
    "plt.ylabel('# Samples')\n",
    "plt.title(\"Test\")\n",
    "plt.show()"
   ]
  },
  {
   "cell_type": "markdown",
   "metadata": {
    "id": "-sMYZFEwLHBu",
    "slideshow": {
     "slide_type": "slide"
    }
   },
   "source": [
    "## 2. Feature Extraction\n",
    "\n",
    "We are now ready to address the sentiment analysis task.\n",
    "\n",
    "We consider the sentiment classification task for description purposes."
   ]
  },
  {
   "cell_type": "markdown",
   "metadata": {
    "slideshow": {
     "slide_type": "fragment"
    }
   },
   "source": [
    "We first **determine** the inputs and outputs of our classifier.\n",
    "\n",
    "Then, we define **how to encode** the inputs and outputs for the classifier."
   ]
  },
  {
   "cell_type": "markdown",
   "metadata": {
    "slideshow": {
     "slide_type": "subslide"
    }
   },
   "source": [
    "### Inputs and Outputs\n",
    "\n",
    "<center>\n",
    "    <img src=\"images/inputs_outputs.png\" alt=\"inputs and outputs\" />\n",
    "</center>"
   ]
  },
  {
   "cell_type": "markdown",
   "metadata": {
    "slideshow": {
     "slide_type": "subslide"
    }
   },
   "source": [
    "### Input features and Outputs\n",
    "\n",
    "We will encode input text into a numerical format: **bag-of-words**.\n",
    "\n",
    "<center>\n",
    "    <img src=\"images/inputs_outputs_features.png\" alt=\"features and outputs\" />\n",
    "</center>"
   ]
  },
  {
   "cell_type": "markdown",
   "metadata": {
    "slideshow": {
     "slide_type": "subslide"
    }
   },
   "source": [
    "Sentiment score prediction has the same schema where the *output label* is replaced by the sentiment score."
   ]
  },
  {
   "cell_type": "markdown",
   "metadata": {
    "id": "APy7Yb83H5Is",
    "slideshow": {
     "slide_type": "slide"
    }
   },
   "source": [
    "### 2.1 Bag-of-Words Encoding\n",
    "\n",
    "The [scikit-learn](https://scikit-learn.org/stable/) library offers *TfidfVectorizer*, a class that performs both tokenization and the creation of the Bag-of-Words (BoW) representation of a corpus.\n",
    "\n",
    "In particular, it computes tf-idf representation for each word token."
   ]
  },
  {
   "cell_type": "markdown",
   "metadata": {
    "slideshow": {
     "slide_type": "fragment"
    }
   },
   "source": [
    "#### Homework 📖\n",
    "\n",
    "The class has plenty of options: it can be used also to count n-grams, excluding stop-words, and cutting off most and/or less frequent terms."
   ]
  },
  {
   "cell_type": "code",
   "execution_count": 29,
   "metadata": {
    "colab": {
     "base_uri": "https://localhost:8080/"
    },
    "id": "ZsuUwTjqH72Q",
    "outputId": "95233a15-6daa-4f64-b0bd-9958861efad1",
    "scrolled": false,
    "slideshow": {
     "slide_type": "subslide"
    }
   },
   "outputs": [
    {
     "name": "stdout",
     "output_type": "stream",
     "text": [
      "Processing corpus\n",
      "\n",
      "Shape of the matrix: (data points, features)\n",
      "(25000, 74849)\n",
      "\n"
     ]
    }
   ],
   "source": [
    "from sklearn.feature_extraction.text import  TfidfVectorizer\n",
    "\n",
    "# select only the training sentences\n",
    "df_train = df.loc[df['split'] == \"train\"]\n",
    "\n",
    "train_texts = df_train.text.values\n",
    "\n",
    "print(\"Processing corpus\\n\")\n",
    "vectorizer =  TfidfVectorizer()\n",
    "\n",
    "# tokenization and creation of Bag of Words representation\n",
    "X_train = vectorizer.fit_transform(train_texts)\n",
    "\n",
    "print(\"Shape of the matrix: (data points, features)\")\n",
    "print(X_train.shape)\n",
    "print()\n",
    "\n",
    "# targets for the training set\n",
    "Y_train = df_train.sentiment.values "
   ]
  },
  {
   "cell_type": "markdown",
   "metadata": {
    "id": "PajnwZslUg-p",
    "slideshow": {
     "slide_type": "subslide"
    }
   },
   "source": [
    "The vectorizer **fits** on the provided texts to create an internal vocabulary.\n",
    "\n",
    "The vocabulary is used to create the BoW representation.\n",
    "\n",
    "The vocabulary is a dictionary that associates to each word a corresponding column in the feature matrix."
   ]
  },
  {
   "cell_type": "markdown",
   "metadata": {
    "slideshow": {
     "slide_type": "fragment"
    }
   },
   "source": [
    "#### Homework 📖\n",
    "\n",
    "Do not try to print the whole vocabulary: it is quite large ;)\n",
    "\n",
    "Still, **it is very important** to have a look at detected tokens!"
   ]
  },
  {
   "cell_type": "markdown",
   "metadata": {
    "slideshow": {
     "slide_type": "subslide"
    }
   },
   "source": [
    "Let's check the size of the built vocabulary."
   ]
  },
  {
   "cell_type": "code",
   "execution_count": 30,
   "metadata": {
    "colab": {
     "base_uri": "https://localhost:8080/"
    },
    "id": "7fMTG5wqUfhL",
    "outputId": "c36d0a93-efe7-4aa4-f912-7a8dc96be7ee",
    "scrolled": false,
    "slideshow": {
     "slide_type": "fragment"
    }
   },
   "outputs": [
    {
     "name": "stdout",
     "output_type": "stream",
     "text": [
      "Size of vocabulary:\n",
      "74849\n",
      "<class 'dict'>\n"
     ]
    }
   ],
   "source": [
    "print(\"Size of vocabulary:\")\n",
    "print(len(vectorizer.vocabulary_))\n",
    "print(type(vectorizer.vocabulary_))"
   ]
  },
  {
   "cell_type": "markdown",
   "metadata": {
    "id": "g2KIWtBzMYef",
    "slideshow": {
     "slide_type": "subslide"
    }
   },
   "source": [
    "Since the vocabulary is quite big, the BoW representation of input texts is a *sparse* matrix (see [scipy.sparse](https://docs.scipy.org/doc/scipy/reference/sparse.html) for more info).\n",
    "\n",
    "Simply put, a sparse matrix is represented as a dictionary of non-zero entries, where the keys are the matrix coordinates."
   ]
  },
  {
   "cell_type": "code",
   "execution_count": 31,
   "metadata": {
    "colab": {
     "base_uri": "https://localhost:8080/"
    },
    "id": "CfcEWJaeNLWc",
    "outputId": "9120b13a-fb4a-44f6-dfae-ece03eab0d0a",
    "scrolled": true,
    "slideshow": {
     "slide_type": "fragment"
    }
   },
   "outputs": [
    {
     "name": "stdout",
     "output_type": "stream",
     "text": [
      "<Compressed Sparse Row sparse matrix of dtype 'float64'\n",
      "\twith 3445861 stored elements and shape (25000, 74849)>\n",
      "  Coords\tValues\n",
      "  (0, 9251)\t0.5528755709385473\n",
      "  (0, 30902)\t0.2616458445315301\n",
      "  (0, 34585)\t0.06440376302392932\n",
      "  (0, 10850)\t0.07578961903541269\n",
      "  (0, 13498)\t0.048831814194567884\n",
      "  (0, 34683)\t0.03238637557628514\n",
      "  (0, 53427)\t0.08287028364871561\n",
      "  (0, 4753)\t0.048168785663354516\n",
      "  (0, 66339)\t0.13179382548528576\n",
      "  (0, 57283)\t0.04380930936896619\n",
      "  (0, 66925)\t0.029795090371297454\n",
      "  (0, 4465)\t0.041794821579948516\n",
      "  (0, 61617)\t0.028352823944477742\n",
      "  (0, 47407)\t0.033612394453386325\n",
      "  (0, 51933)\t0.10142198326143342\n",
      "  (0, 1277)\t0.02713338360986115\n",
      "  (0, 58026)\t0.11599167114999774\n",
      "  (0, 38683)\t0.03904856857687559\n",
      "  (0, 64115)\t0.04105492761350832\n",
      "  (0, 65748)\t0.40298549004690387\n",
      "  (0, 44639)\t0.06171076675987137\n",
      "  (0, 646)\t0.09530469501371355\n",
      "  (0, 74158)\t0.04248395158188171\n",
      "  (0, 33004)\t0.032707474206810465\n",
      "  (0, 65750)\t0.09813523499426788\n",
      "  :\t:\n",
      "  (24999, 54664)\t0.10006234568899015\n",
      "  (24999, 69390)\t0.08901955588906535\n",
      "  (24999, 60381)\t0.10149539694464624\n",
      "  (24999, 30121)\t0.10358557721342462\n",
      "  (24999, 51851)\t0.11286085237961847\n",
      "  (24999, 45926)\t0.12721351986739854\n",
      "  (24999, 10204)\t0.10100778277787299\n",
      "  (24999, 45141)\t0.10419279650325267\n",
      "  (24999, 72231)\t0.11250562502748081\n",
      "  (24999, 48050)\t0.11908745940751124\n",
      "  (24999, 32595)\t0.20192911496502333\n",
      "  (24999, 61647)\t0.11571461696622072\n",
      "  (24999, 31487)\t0.11739399186128095\n",
      "  (24999, 67706)\t0.12537463956680917\n",
      "  (24999, 40601)\t0.11224273893995161\n",
      "  (24999, 10459)\t0.13792062152350673\n",
      "  (24999, 61618)\t0.12721351986739854\n",
      "  (24999, 42368)\t0.21937605297602975\n",
      "  (24999, 2135)\t0.18293677520205212\n",
      "  (24999, 55942)\t0.1664435891568888\n",
      "  (24999, 39119)\t0.14824490541011212\n",
      "  (24999, 19872)\t0.1779604473240453\n",
      "  (24999, 20407)\t0.16690169772579502\n",
      "  (24999, 19876)\t0.19991621754514574\n",
      "  (24999, 59687)\t0.2123852153151405\n"
     ]
    }
   ],
   "source": [
    "print(X_train)"
   ]
  },
  {
   "cell_type": "markdown",
   "metadata": {
    "id": "kr38ssKTNMeQ",
    "slideshow": {
     "slide_type": "subslide"
    }
   },
   "source": [
    "It is possible to get the dense representation of a feature matrix.\n",
    "\n",
    "**Keep in mind** that the matrix will occupy a lot of memory."
   ]
  },
  {
   "cell_type": "code",
   "execution_count": 32,
   "metadata": {
    "scrolled": false,
    "slideshow": {
     "slide_type": "fragment"
    }
   },
   "outputs": [
    {
     "name": "stdout",
     "output_type": "stream",
     "text": [
      "[[0.         0.         0.         ... 0.         0.         0.        ]\n",
      " [0.         0.         0.         ... 0.         0.         0.        ]\n",
      " [0.         0.         0.         ... 0.         0.         0.        ]\n",
      " ...\n",
      " [0.         0.         0.         ... 0.         0.         0.        ]\n",
      " [0.         0.08332142 0.         ... 0.         0.         0.        ]\n",
      " [0.         0.         0.         ... 0.         0.         0.        ]]\n"
     ]
    }
   ],
   "source": [
    "print(X_train.toarray())"
   ]
  },
  {
   "cell_type": "markdown",
   "metadata": {
    "slideshow": {
     "slide_type": "subslide"
    }
   },
   "source": [
    "#### Homework 📖\n",
    "\n",
    "Try taking a subset of the matrix and inspect its dense representation."
   ]
  },
  {
   "cell_type": "markdown",
   "metadata": {
    "id": "evLd40iCWZ8q",
    "slideshow": {
     "slide_type": "subslide"
    }
   },
   "source": [
    "We use our fitted Vectorizer to transform test texts as well.\n",
    "\n",
    "**Make sure** you invoke ``vectorizer.transform()`` and **not** ``vectorizer.fit_transform()``."
   ]
  },
  {
   "cell_type": "code",
   "execution_count": 33,
   "metadata": {
    "id": "jNz23Ep2Y3iB",
    "scrolled": false,
    "slideshow": {
     "slide_type": "fragment"
    }
   },
   "outputs": [],
   "source": [
    "# select only the test sentences\n",
    "df_test = df.loc[df['split'] == \"test\"]\n",
    "test_texts = df_test.text.values\n",
    "\n",
    "X_test = vectorizer.transform(test_texts)\n",
    "Y_test = df_test.sentiment.values"
   ]
  },
  {
   "cell_type": "markdown",
   "metadata": {
    "id": "nkhGO5UhgiRF",
    "slideshow": {
     "slide_type": "slide"
    }
   },
   "source": [
    "**GOLDEN RULE: DO NOT EVER EVER EVER EVER MESS WITH THE TEST SET!!!!**"
   ]
  },
  {
   "cell_type": "markdown",
   "metadata": {
    "slideshow": {
     "slide_type": "fragment"
    }
   },
   "source": [
    "You **should never** add or remove rows/instances/data points from the test set.\n",
    "\n",
    "You **should never** alter the ground-truth labels."
   ]
  },
  {
   "cell_type": "markdown",
   "metadata": {
    "slideshow": {
     "slide_type": "fragment"
    }
   },
   "source": [
    "You **can** process it to transform, add, or remove columns/features.\n",
    "\n",
    "You **can** modify the train set more freely."
   ]
  },
  {
   "cell_type": "markdown",
   "metadata": {
    "slideshow": {
     "slide_type": "subslide"
    }
   },
   "source": [
    "\n",
    "But **keep your gross fingerprints** from the test set: it is untouchable, whatever its quality.\n",
    "\n",
    "<br/>\n",
    "\n",
    "<center>\n",
    "    <img src=\"https://media.tenor.com/rPtHkeV2tkYAAAAC/stay-away-coronavirus.gif\" alt=\"features and outputs\" />\n",
    "</center>"
   ]
  },
  {
   "cell_type": "markdown",
   "metadata": {
    "slideshow": {
     "slide_type": "slide"
    }
   },
   "source": [
    "So far, we have encoded the text as it is.\n",
    "\n",
    "We can perform additional pre-processing to 'normalize' the provided text."
   ]
  },
  {
   "cell_type": "markdown",
   "metadata": {
    "id": "EQeTE9r8H2Ok",
    "slideshow": {
     "slide_type": "slide"
    }
   },
   "source": [
    "### 2.2 Stemming\n",
    "\n",
    "*''Stemming usually refers to a crude heuristic process that **chops off** the ends of words to reduce words to a common form.''* \n",
    "\n",
    "<div align='right'>\n",
    "(Introduction to Information Retrieval ~ C. D. Manning)\n",
    "</div>"
   ]
  },
  {
   "cell_type": "markdown",
   "metadata": {
    "slideshow": {
     "slide_type": "fragment"
    }
   },
   "source": [
    "**Example**\n",
    "\n",
    "*programmer*, *programs*, *programming* $\\rightarrow$ *program*"
   ]
  },
  {
   "cell_type": "code",
   "execution_count": 34,
   "metadata": {
    "colab": {
     "base_uri": "https://localhost:8080/"
    },
    "id": "BTikcP7e2Pby",
    "outputId": "6481f0cf-df2a-4274-95e5-37c503e19ae8",
    "scrolled": false,
    "slideshow": {
     "slide_type": "subslide"
    }
   },
   "outputs": [],
   "source": [
    "from nltk.stem import SnowballStemmer\n",
    "from nltk.tokenize import (word_tokenize,\n",
    " sent_tokenize,\n",
    " WhitespaceTokenizer)\n",
    "\n",
    "stemmer = SnowballStemmer(\"english\")\n",
    "tokenizer = WhitespaceTokenizer()"
   ]
  },
  {
   "cell_type": "code",
   "execution_count": 35,
   "metadata": {
    "colab": {
     "base_uri": "https://localhost:8080/"
    },
    "id": "i74KsprrFwPN",
    "outputId": "ca0c21f4-a268-4d4a-dcff-dafae16a2401",
    "scrolled": false,
    "slideshow": {
     "slide_type": "subslide"
    }
   },
   "outputs": [
    {
     "name": "stderr",
     "output_type": "stream",
     "text": [
      "100%|██████████| 25000/25000 [00:26<00:00, 950.06it/s] \n",
      "100%|██████████| 25000/25000 [00:26<00:00, 957.23it/s] \n"
     ]
    }
   ],
   "source": [
    "def stem_text(text: str):\n",
    "    words = [stemmer.stem(word) for word in tokenizer.tokenize(text)]\n",
    "    return \" \".join(words)\n",
    "\n",
    "st_train_texts = [stem_text(text) for text in tqdm(train_texts)]\n",
    "st_test_texts = [stem_text(text) for text in tqdm(test_texts)]"
   ]
  },
  {
   "cell_type": "code",
   "execution_count": 36,
   "metadata": {
    "scrolled": false,
    "slideshow": {
     "slide_type": "fragment"
    }
   },
   "outputs": [
    {
     "name": "stdout",
     "output_type": "stream",
     "text": [
      "Bromwell High is a cartoon comedy. It ran at the same time as some other programs about school life,\n",
      "\n",
      "bromwel high is a cartoon comedy. it ran at the same time as some other program about school life, s\n"
     ]
    }
   ],
   "source": [
    "print(train_texts[0][:100])\n",
    "print()\n",
    "print(st_train_texts[0][:100])"
   ]
  },
  {
   "cell_type": "markdown",
   "metadata": {
    "slideshow": {
     "slide_type": "subslide"
    }
   },
   "source": [
    "We encoded the pre-processed texts as before via the ``TfidfVectorizer``."
   ]
  },
  {
   "cell_type": "code",
   "execution_count": 37,
   "metadata": {
    "colab": {
     "base_uri": "https://localhost:8080/"
    },
    "id": "FPZNMU_5HwIt",
    "outputId": "e104eee9-276c-43a9-b503-21654df38d23",
    "scrolled": false,
    "slideshow": {
     "slide_type": "fragment"
    }
   },
   "outputs": [
    {
     "name": "stdout",
     "output_type": "stream",
     "text": [
      "Processing corpus\n",
      "\n",
      "Shape of the matrix: (data points, features)\n",
      "(25000, 70363)\n",
      "\n"
     ]
    }
   ],
   "source": [
    "print(\"Processing corpus\\n\")\n",
    "st_vectorizer =  TfidfVectorizer()\n",
    "st_X_train = st_vectorizer.fit_transform(st_train_texts)\n",
    "st_X_test = st_vectorizer.transform(st_test_texts)\n",
    "\n",
    "print(\"Shape of the matrix: (data points, features)\")\n",
    "print(st_X_train.shape)\n",
    "print()"
   ]
  },
  {
   "cell_type": "markdown",
   "metadata": {
    "id": "IHIRP1NcHxkG",
    "slideshow": {
     "slide_type": "slide"
    }
   },
   "source": [
    "### 2.3 Lemmatization\n",
    "\n",
    "*''Lemmatization usually refers to use a vocabulary and morphological analysis of words to return the base or dictionary form of a word, known as **lemma**''*\n",
    "\n",
    "<div align='right'>\n",
    "(Introduction to Information Retrieval ~ C. D. Manning)\n",
    "</div>"
   ]
  },
  {
   "cell_type": "markdown",
   "metadata": {
    "slideshow": {
     "slide_type": "fragment"
    }
   },
   "source": [
    "**Example**\n",
    "\n",
    "*saw*, *seen*, *sees* $\\rightarrow$ *see*"
   ]
  },
  {
   "cell_type": "code",
   "execution_count": 38,
   "metadata": {
    "colab": {
     "base_uri": "https://localhost:8080/"
    },
    "id": "50o_-46D51Bc",
    "outputId": "b7fdb7f7-1c67-44a9-c8b6-aa551fedf9a8",
    "scrolled": false,
    "slideshow": {
     "slide_type": "subslide"
    }
   },
   "outputs": [
    {
     "name": "stderr",
     "output_type": "stream",
     "text": [
      "[nltk_data] Downloading package omw-1.4 to\n",
      "[nltk_data]     C:\\Users\\giuli\\AppData\\Roaming\\nltk_data...\n",
      "[nltk_data] Downloading package wordnet to\n",
      "[nltk_data]     C:\\Users\\giuli\\AppData\\Roaming\\nltk_data...\n",
      "[nltk_data] Downloading package averaged_perceptron_tagger to\n",
      "[nltk_data]     C:\\Users\\giuli\\AppData\\Roaming\\nltk_data...\n",
      "[nltk_data]   Unzipping taggers\\averaged_perceptron_tagger.zip.\n",
      "[nltk_data] Downloading package averaged_perceptron_tagger_eng to\n",
      "[nltk_data]     C:\\Users\\giuli\\AppData\\Roaming\\nltk_data...\n",
      "[nltk_data]   Unzipping taggers\\averaged_perceptron_tagger_eng.zip.\n"
     ]
    }
   ],
   "source": [
    "from nltk.stem import WordNetLemmatizer\n",
    "from nltk import pos_tag\n",
    "from nltk.corpus import wordnet\n",
    "\n",
    "nltk.download('omw-1.4')\n",
    "nltk.download('wordnet')\n",
    "nltk.download('averaged_perceptron_tagger')\n",
    "nltk.download('averaged_perceptron_tagger_eng')\n",
    "\n",
    "lemmatizer = WordNetLemmatizer()"
   ]
  },
  {
   "cell_type": "code",
   "execution_count": 39,
   "metadata": {
    "colab": {
     "base_uri": "https://localhost:8080/"
    },
    "id": "5dQmbDSXLICD",
    "outputId": "f5c712c1-bd73-4638-decc-fae7607a6858",
    "scrolled": false,
    "slideshow": {
     "slide_type": "subslide"
    }
   },
   "outputs": [],
   "source": [
    "def get_wordnet_key(pos_tag):\n",
    "    if pos_tag.startswith('J'):\n",
    "        return wordnet.ADJ\n",
    "    elif pos_tag.startswith('V'):\n",
    "        return wordnet.VERB\n",
    "    elif pos_tag.startswith('N'):\n",
    "        return wordnet.NOUN\n",
    "    elif pos_tag.startswith('R'):\n",
    "        return wordnet.ADV\n",
    "    else:          \n",
    "        return 'n'\n",
    "\n",
    "def lem_text(text: str):\n",
    "    tokens = tokenizer.tokenize(text)\n",
    "    tagged = pos_tag(tokens)\n",
    "    words = [lemmatizer.lemmatize(word, get_wordnet_key(tag)) \n",
    "             for word, tag in tagged]\n",
    "    return \" \".join(words)"
   ]
  },
  {
   "cell_type": "code",
   "execution_count": 40,
   "metadata": {
    "scrolled": false,
    "slideshow": {
     "slide_type": "subslide"
    }
   },
   "outputs": [
    {
     "name": "stderr",
     "output_type": "stream",
     "text": [
      "100%|██████████| 25000/25000 [04:36<00:00, 90.53it/s] \n",
      "100%|██████████| 25000/25000 [06:23<00:00, 65.15it/s] \n"
     ]
    }
   ],
   "source": [
    "lem_train_texts = [lem_text(text) \n",
    "                   for text in tqdm(train_texts,\n",
    "                                    leave=True,\n",
    "                                    position=0)]\n",
    "lem_test_texts = [lem_text(text) \n",
    "                  for text in tqdm(test_texts,\n",
    "                                   leave=True,\n",
    "                                   position=0)]"
   ]
  },
  {
   "cell_type": "code",
   "execution_count": 41,
   "metadata": {
    "scrolled": false,
    "slideshow": {
     "slide_type": "subslide"
    }
   },
   "outputs": [
    {
     "name": "stdout",
     "output_type": "stream",
     "text": [
      "I find it so amazing that even after all these years, we are STILL talking about this movie! Obvious\n",
      "\n",
      "I find it so amaze that even after all these years, we be STILL talk about this movie! Obviously thi\n"
     ]
    }
   ],
   "source": [
    "print(train_texts[50][:100])\n",
    "print()\n",
    "print(lem_train_texts[50][:100])"
   ]
  },
  {
   "cell_type": "markdown",
   "metadata": {
    "slideshow": {
     "slide_type": "subslide"
    }
   },
   "source": [
    "We encoded the pre-processed texts as before via the ``TfidfVectorizer``."
   ]
  },
  {
   "cell_type": "code",
   "execution_count": 42,
   "metadata": {
    "colab": {
     "base_uri": "https://localhost:8080/"
    },
    "id": "BLRcJtAyGumx",
    "outputId": "360f4ea9-c782-468f-b746-e61718abac9d",
    "scrolled": false,
    "slideshow": {
     "slide_type": "fragment"
    }
   },
   "outputs": [
    {
     "name": "stdout",
     "output_type": "stream",
     "text": [
      "Processing corpus\n",
      "\n",
      "Shape of the matrix: (data points, features)\n",
      "(25000, 70649)\n",
      "\n"
     ]
    }
   ],
   "source": [
    "print(\"Processing corpus\\n\")\n",
    "lem_vectorizer =  TfidfVectorizer()\n",
    "lem_X_train = lem_vectorizer.fit_transform(lem_train_texts)\n",
    "lem_X_test = lem_vectorizer.transform(lem_test_texts)\n",
    "\n",
    "print(\"Shape of the matrix: (data points, features)\")\n",
    "print(lem_X_train.shape)\n",
    "print()"
   ]
  },
  {
   "cell_type": "markdown",
   "metadata": {
    "id": "Xe5NPH5Gb5FI",
    "slideshow": {
     "slide_type": "slide"
    }
   },
   "source": [
    "## 3. Training and Evaluating a Classifier\n",
    "\n",
    "We are now ready to try out some standard machine learning classifiers."
   ]
  },
  {
   "cell_type": "markdown",
   "metadata": {
    "slideshow": {
     "slide_type": "subslide"
    }
   },
   "source": [
    "**But** first, we introduce some baselines."
   ]
  },
  {
   "cell_type": "markdown",
   "metadata": {
    "slideshow": {
     "slide_type": "fragment"
    }
   },
   "source": [
    "#### The importance of defining good baselines\n",
    "\n",
    "Good baselines are always needed to consistently evaluate employed models.\n",
    "\n",
    "When proposing a novel model, good baselines are recent state-of-the-art models.\n",
    "\n",
    "When proposing a benchmark, good baselines are general-purpose off-the-shelf models."
   ]
  },
  {
   "cell_type": "markdown",
   "metadata": {
    "id": "noDTCzKrLElj",
    "slideshow": {
     "slide_type": "subslide"
    }
   },
   "source": [
    "### 3.1 Baselines\n",
    "\n",
    "The majority baseline always predicts the majority class.\n",
    "\n",
    "The random baseline makes uniform random predictions.\n",
    "\n",
    "Their performances will tell us how much difficult this task is."
   ]
  },
  {
   "cell_type": "code",
   "execution_count": 43,
   "metadata": {
    "id": "7H8brk7OMHbp",
    "scrolled": false,
    "slideshow": {
     "slide_type": "subslide"
    }
   },
   "outputs": [],
   "source": [
    "from sklearn.dummy import DummyClassifier\n",
    "\n",
    "majority_classifier = DummyClassifier(strategy=\"prior\")\n",
    "uniform_classifier = DummyClassifier(strategy=\"uniform\")\n",
    "\n",
    "majority_classifier.fit(X_train, Y_train)\n",
    "uniform_classifier.fit(X_train, Y_train)\n",
    "\n",
    "Y_pred_train_maj = majority_classifier.predict(X_train)\n",
    "Y_pred_test_maj = majority_classifier.predict(X_test)\n",
    "Y_pred_train_uni = uniform_classifier.predict(X_train)\n",
    "Y_pred_test_uni = uniform_classifier.predict(X_test)"
   ]
  },
  {
   "cell_type": "markdown",
   "metadata": {
    "slideshow": {
     "slide_type": "subslide"
    }
   },
   "source": [
    "#### Homework 📖\n",
    "\n",
    "Try out a random baseline that samples predictions according to label distribution."
   ]
  },
  {
   "cell_type": "markdown",
   "metadata": {
    "slideshow": {
     "slide_type": "subslide"
    }
   },
   "source": [
    "We now evaluate model predictions via some metrics."
   ]
  },
  {
   "cell_type": "code",
   "execution_count": 44,
   "metadata": {
    "colab": {
     "base_uri": "https://localhost:8080/"
    },
    "id": "-uRJSSNzNv6x",
    "outputId": "e505c8bd-6af5-4058-f543-a2f79504482c",
    "scrolled": false,
    "slideshow": {
     "slide_type": "fragment"
    }
   },
   "outputs": [],
   "source": [
    "from sklearn.metrics import classification_report\n",
    "\n",
    "def evaluate_classification(y_true, y_pred):\n",
    "    report = classification_report(y_true,\n",
    "                                   y_pred,\n",
    "                                   target_names=['neg', 'pos'])\n",
    "    print(report)"
   ]
  },
  {
   "cell_type": "code",
   "execution_count": 45,
   "metadata": {
    "scrolled": false,
    "slideshow": {
     "slide_type": "subslide"
    }
   },
   "outputs": [
    {
     "name": "stdout",
     "output_type": "stream",
     "text": [
      "              precision    recall  f1-score   support\n",
      "\n",
      "         neg       0.50      1.00      0.67     12500\n",
      "         pos       0.00      0.00      0.00     12500\n",
      "\n",
      "    accuracy                           0.50     25000\n",
      "   macro avg       0.25      0.50      0.33     25000\n",
      "weighted avg       0.25      0.50      0.33     25000\n",
      "\n",
      "              precision    recall  f1-score   support\n",
      "\n",
      "         neg       0.50      1.00      0.67     12500\n",
      "         pos       0.00      0.00      0.00     12500\n",
      "\n",
      "    accuracy                           0.50     25000\n",
      "   macro avg       0.25      0.50      0.33     25000\n",
      "weighted avg       0.25      0.50      0.33     25000\n",
      "\n"
     ]
    },
    {
     "name": "stderr",
     "output_type": "stream",
     "text": [
      "c:\\Users\\giuli\\.conda\\envs\\nlp\\Lib\\site-packages\\sklearn\\metrics\\_classification.py:1731: UndefinedMetricWarning: Precision is ill-defined and being set to 0.0 in labels with no predicted samples. Use `zero_division` parameter to control this behavior.\n",
      "  _warn_prf(average, modifier, f\"{metric.capitalize()} is\", result.shape[0])\n",
      "c:\\Users\\giuli\\.conda\\envs\\nlp\\Lib\\site-packages\\sklearn\\metrics\\_classification.py:1731: UndefinedMetricWarning: Precision is ill-defined and being set to 0.0 in labels with no predicted samples. Use `zero_division` parameter to control this behavior.\n",
      "  _warn_prf(average, modifier, f\"{metric.capitalize()} is\", result.shape[0])\n",
      "c:\\Users\\giuli\\.conda\\envs\\nlp\\Lib\\site-packages\\sklearn\\metrics\\_classification.py:1731: UndefinedMetricWarning: Precision is ill-defined and being set to 0.0 in labels with no predicted samples. Use `zero_division` parameter to control this behavior.\n",
      "  _warn_prf(average, modifier, f\"{metric.capitalize()} is\", result.shape[0])\n",
      "c:\\Users\\giuli\\.conda\\envs\\nlp\\Lib\\site-packages\\sklearn\\metrics\\_classification.py:1731: UndefinedMetricWarning: Precision is ill-defined and being set to 0.0 in labels with no predicted samples. Use `zero_division` parameter to control this behavior.\n",
      "  _warn_prf(average, modifier, f\"{metric.capitalize()} is\", result.shape[0])\n",
      "c:\\Users\\giuli\\.conda\\envs\\nlp\\Lib\\site-packages\\sklearn\\metrics\\_classification.py:1731: UndefinedMetricWarning: Precision is ill-defined and being set to 0.0 in labels with no predicted samples. Use `zero_division` parameter to control this behavior.\n",
      "  _warn_prf(average, modifier, f\"{metric.capitalize()} is\", result.shape[0])\n",
      "c:\\Users\\giuli\\.conda\\envs\\nlp\\Lib\\site-packages\\sklearn\\metrics\\_classification.py:1731: UndefinedMetricWarning: Precision is ill-defined and being set to 0.0 in labels with no predicted samples. Use `zero_division` parameter to control this behavior.\n",
      "  _warn_prf(average, modifier, f\"{metric.capitalize()} is\", result.shape[0])\n"
     ]
    }
   ],
   "source": [
    "evaluate_classification(y_true=Y_train, y_pred=Y_pred_train_maj)\n",
    "evaluate_classification(y_true=Y_test, y_pred=Y_pred_test_maj)"
   ]
  },
  {
   "cell_type": "code",
   "execution_count": 46,
   "metadata": {
    "scrolled": false,
    "slideshow": {
     "slide_type": "subslide"
    }
   },
   "outputs": [
    {
     "name": "stdout",
     "output_type": "stream",
     "text": [
      "              precision    recall  f1-score   support\n",
      "\n",
      "         neg       0.50      0.51      0.50     12500\n",
      "         pos       0.50      0.49      0.50     12500\n",
      "\n",
      "    accuracy                           0.50     25000\n",
      "   macro avg       0.50      0.50      0.50     25000\n",
      "weighted avg       0.50      0.50      0.50     25000\n",
      "\n",
      "              precision    recall  f1-score   support\n",
      "\n",
      "         neg       0.50      0.49      0.49     12500\n",
      "         pos       0.50      0.50      0.50     12500\n",
      "\n",
      "    accuracy                           0.50     25000\n",
      "   macro avg       0.50      0.50      0.50     25000\n",
      "weighted avg       0.50      0.50      0.50     25000\n",
      "\n"
     ]
    }
   ],
   "source": [
    "evaluate_classification(y_true=Y_train, y_pred=Y_pred_train_uni)\n",
    "evaluate_classification(y_true=Y_test, y_pred=Y_pred_test_uni) "
   ]
  },
  {
   "cell_type": "markdown",
   "metadata": {
    "id": "022pneV8hOnd",
    "slideshow": {
     "slide_type": "subslide"
    }
   },
   "source": [
    "#### 3.1.1 The importance of model evaluation\n",
    "\n",
    "In most cases, accuracy is **not a very informative metric**. \n",
    "\n",
    "Precision, recall, and F1 are more informative\n",
    "\n",
    "F1 is generally a good indicator. In particular, macro F1 in case the test set in unbalanced.\n",
    "\n",
    "Whether precision or recall are more important depends on the specific application, if the priority is to avoid false positives or false negatives.\n",
    "\n",
    "Other metrics do exists (e.g., Area Under ROC Curve), always check the literature to find the most informative way to measure something!"
   ]
  },
  {
   "cell_type": "markdown",
   "metadata": {
    "id": "X_MZ91GaRyJP",
    "slideshow": {
     "slide_type": "subslide"
    }
   },
   "source": [
    "#### Homework 📖\n",
    "\n",
    "Try sampling an unbalanced test set and run model evaluation.\n",
    "\n",
    "Do you see any differences in terms of metric values?"
   ]
  },
  {
   "cell_type": "code",
   "execution_count": 47,
   "metadata": {
    "scrolled": false,
    "slideshow": {
     "slide_type": "skip"
    }
   },
   "outputs": [],
   "source": [
    "# plot precision/recall curve and confusion matrix\n",
    "from sklearn.metrics import (precision_recall_curve,\n",
    "                             PrecisionRecallDisplay,\n",
    "                             ConfusionMatrixDisplay,\n",
    "                             PrecisionRecallDisplay)"
   ]
  },
  {
   "cell_type": "code",
   "execution_count": 48,
   "metadata": {
    "colab": {
     "base_uri": "https://localhost:8080/",
     "height": 824
    },
    "id": "PihvHXH3TBLV",
    "outputId": "497f7dc7-45b3-4534-a207-c8b5d176540b",
    "scrolled": false,
    "slideshow": {
     "slide_type": "subslide"
    }
   },
   "outputs": [
    {
     "data": {
      "text/plain": [
       "<sklearn.metrics._plot.precision_recall_curve.PrecisionRecallDisplay at 0x24d2266f8c0>"
      ]
     },
     "execution_count": 48,
     "metadata": {},
     "output_type": "execute_result"
    },
    {
     "data": {
      "image/png": "[encoded data removed]",
      "text/plain": [
       "<Figure size 640x480 with 1 Axes>"
      ]
     },
     "metadata": {},
     "output_type": "display_data"
    }
   ],
   "source": [
    "PrecisionRecallDisplay.from_estimator(majority_classifier, X_test, Y_test)"
   ]
  },
  {
   "cell_type": "code",
   "execution_count": 49,
   "metadata": {
    "scrolled": false,
    "slideshow": {
     "slide_type": "subslide"
    }
   },
   "outputs": [
    {
     "data": {
      "text/plain": [
       "<sklearn.metrics._plot.confusion_matrix.ConfusionMatrixDisplay at 0x24d2266fa10>"
      ]
     },
     "execution_count": 49,
     "metadata": {},
     "output_type": "execute_result"
    },
    {
     "data": {
      "image/png": "[encoded data removed]",
      "text/plain": [
       "<Figure size 640x480 with 2 Axes>"
      ]
     },
     "metadata": {},
     "output_type": "display_data"
    }
   ],
   "source": [
    "ConfusionMatrixDisplay.from_estimator(majority_classifier, X_test, Y_test, normalize=None, cmap=plt.cm.Blues)"
   ]
  },
  {
   "cell_type": "code",
   "execution_count": 50,
   "metadata": {
    "scrolled": false,
    "slideshow": {
     "slide_type": "subslide"
    }
   },
   "outputs": [
    {
     "data": {
      "text/plain": [
       "<sklearn.metrics._plot.confusion_matrix.ConfusionMatrixDisplay at 0x24d21dcaad0>"
      ]
     },
     "execution_count": 50,
     "metadata": {},
     "output_type": "execute_result"
    },
    {
     "data": {
      "image/png": "[encoded data removed]",
      "text/plain": [
       "<Figure size 640x480 with 2 Axes>"
      ]
     },
     "metadata": {},
     "output_type": "display_data"
    }
   ],
   "source": [
    "ConfusionMatrixDisplay.from_estimator(majority_classifier, X_test, Y_test, normalize='all', cmap=plt.cm.Blues, values_format=\".2f\")"
   ]
  },
  {
   "cell_type": "markdown",
   "metadata": {
    "id": "NYB6E1qyVYtO",
    "slideshow": {
     "slide_type": "fragment"
    }
   },
   "source": [
    "In most cases it is better to use the normalized version, especially with unbalanced distributions!"
   ]
  },
  {
   "cell_type": "markdown",
   "metadata": {
    "id": "N0HSskuMAwZv",
    "slideshow": {
     "slide_type": "subslide"
    }
   },
   "source": [
    "Looking at confusion tables row-wise gives information about recall, looking column-wise gives information about precision.\n",
    "\n",
    "<center>\n",
    "    <img src=\"images/confusion_matrix.png\" alt=\"confusion matrix\" />\n",
    "</center>\n",
    "\n",
    "<div align='right'>\n",
    "(wikipedia)\n",
    "</div>"
   ]
  },
  {
   "cell_type": "code",
   "execution_count": 51,
   "metadata": {
    "colab": {
     "base_uri": "https://localhost:8080/",
     "height": 1000
    },
    "id": "AAR8cXdWTNSI",
    "outputId": "f600556a-f370-4207-d205-4e47260dcf3b",
    "scrolled": true,
    "slideshow": {
     "slide_type": "subslide"
    }
   },
   "outputs": [
    {
     "data": {
      "text/plain": [
       "<sklearn.metrics._plot.precision_recall_curve.PrecisionRecallDisplay at 0x24d2231d450>"
      ]
     },
     "execution_count": 51,
     "metadata": {},
     "output_type": "execute_result"
    },
    {
     "data": {
      "image/png": "[encoded data removed]",
      "text/plain": [
       "<Figure size 640x480 with 1 Axes>"
      ]
     },
     "metadata": {},
     "output_type": "display_data"
    }
   ],
   "source": [
    "PrecisionRecallDisplay.from_estimator(uniform_classifier, X_test, Y_test)"
   ]
  },
  {
   "cell_type": "code",
   "execution_count": 52,
   "metadata": {
    "scrolled": false,
    "slideshow": {
     "slide_type": "subslide"
    }
   },
   "outputs": [
    {
     "data": {
      "text/plain": [
       "<sklearn.metrics._plot.confusion_matrix.ConfusionMatrixDisplay at 0x24d21f102d0>"
      ]
     },
     "execution_count": 52,
     "metadata": {},
     "output_type": "execute_result"
    },
    {
     "data": {
      "image/png": "[encoded data removed]",
      "text/plain": [
       "<Figure size 640x480 with 2 Axes>"
      ]
     },
     "metadata": {},
     "output_type": "display_data"
    }
   ],
   "source": [
    "ConfusionMatrixDisplay.from_estimator(uniform_classifier, X_test,\n",
    "                                      Y_test, normalize=None, cmap=plt.cm.Blues)"
   ]
  },
  {
   "cell_type": "code",
   "execution_count": 53,
   "metadata": {
    "scrolled": false,
    "slideshow": {
     "slide_type": "subslide"
    }
   },
   "outputs": [
    {
     "data": {
      "text/plain": [
       "<sklearn.metrics._plot.confusion_matrix.ConfusionMatrixDisplay at 0x24d234c90f0>"
      ]
     },
     "execution_count": 53,
     "metadata": {},
     "output_type": "execute_result"
    },
    {
     "data": {
      "image/png": "[encoded data removed]",
      "text/plain": [
       "<Figure size 640x480 with 2 Axes>"
      ]
     },
     "metadata": {},
     "output_type": "display_data"
    }
   ],
   "source": [
    "ConfusionMatrixDisplay.from_estimator(uniform_classifier, X_test, Y_test,\n",
    "                                      normalize='all', cmap=plt.cm.Blues,\n",
    "                                      values_format=\".2f\")"
   ]
  },
  {
   "cell_type": "markdown",
   "metadata": {
    "slideshow": {
     "slide_type": "subslide"
    }
   },
   "source": [
    "### 3.2 Bayes Classifier\n",
    "\n",
    "Let's try out our first classifier: A Naive Bayes Classifier (NB)."
   ]
  },
  {
   "cell_type": "code",
   "execution_count": 54,
   "metadata": {
    "scrolled": false,
    "slideshow": {
     "slide_type": "fragment"
    }
   },
   "outputs": [],
   "source": [
    "from sklearn.naive_bayes import MultinomialNB\n",
    "\n",
    "nb_classifier = MultinomialNB()\n",
    "\n",
    "nb_classifier.fit(X_train, Y_train)\n",
    "\n",
    "Y_pred_train_nb = nb_classifier.predict(X_train)\n",
    "Y_pred_test_nb = nb_classifier.predict(X_test)"
   ]
  },
  {
   "cell_type": "code",
   "execution_count": 55,
   "metadata": {
    "scrolled": false,
    "slideshow": {
     "slide_type": "subslide"
    }
   },
   "outputs": [
    {
     "name": "stdout",
     "output_type": "stream",
     "text": [
      "              precision    recall  f1-score   support\n",
      "\n",
      "         neg       0.89      0.93      0.91     12500\n",
      "         pos       0.93      0.89      0.91     12500\n",
      "\n",
      "    accuracy                           0.91     25000\n",
      "   macro avg       0.91      0.91      0.91     25000\n",
      "weighted avg       0.91      0.91      0.91     25000\n",
      "\n",
      "              precision    recall  f1-score   support\n",
      "\n",
      "         neg       0.79      0.89      0.84     12500\n",
      "         pos       0.87      0.77      0.82     12500\n",
      "\n",
      "    accuracy                           0.83     25000\n",
      "   macro avg       0.83      0.83      0.83     25000\n",
      "weighted avg       0.83      0.83      0.83     25000\n",
      "\n"
     ]
    }
   ],
   "source": [
    "evaluate_classification(y_true=Y_train, y_pred=Y_pred_train_nb)\n",
    "evaluate_classification(y_true=Y_test, y_pred=Y_pred_test_nb)"
   ]
  },
  {
   "cell_type": "code",
   "execution_count": 56,
   "metadata": {
    "scrolled": false,
    "slideshow": {
     "slide_type": "subslide"
    }
   },
   "outputs": [
    {
     "data": {
      "text/plain": [
       "<sklearn.metrics._plot.precision_recall_curve.PrecisionRecallDisplay at 0x24d260bc7d0>"
      ]
     },
     "execution_count": 56,
     "metadata": {},
     "output_type": "execute_result"
    },
    {
     "data": {
      "image/png": "[encoded data removed]",
      "text/plain": [
       "<Figure size 640x480 with 1 Axes>"
      ]
     },
     "metadata": {},
     "output_type": "display_data"
    }
   ],
   "source": [
    "PrecisionRecallDisplay.from_estimator(nb_classifier, X_test, Y_test)"
   ]
  },
  {
   "cell_type": "code",
   "execution_count": 57,
   "metadata": {
    "scrolled": false,
    "slideshow": {
     "slide_type": "subslide"
    }
   },
   "outputs": [
    {
     "data": {
      "text/plain": [
       "<sklearn.metrics._plot.confusion_matrix.ConfusionMatrixDisplay at 0x24d234c9cd0>"
      ]
     },
     "execution_count": 57,
     "metadata": {},
     "output_type": "execute_result"
    },
    {
     "data": {
      "image/png": "[encoded data removed]",
      "text/plain": [
       "<Figure size 640x480 with 2 Axes>"
      ]
     },
     "metadata": {},
     "output_type": "display_data"
    }
   ],
   "source": [
    "ConfusionMatrixDisplay.from_estimator(nb_classifier, X_test,\n",
    "                                      Y_test, cmap=plt.cm.Blues)"
   ]
  },
  {
   "cell_type": "code",
   "execution_count": 58,
   "metadata": {
    "scrolled": false,
    "slideshow": {
     "slide_type": "subslide"
    }
   },
   "outputs": [
    {
     "data": {
      "text/plain": [
       "<sklearn.metrics._plot.confusion_matrix.ConfusionMatrixDisplay at 0x24d260d8710>"
      ]
     },
     "execution_count": 58,
     "metadata": {},
     "output_type": "execute_result"
    },
    {
     "data": {
      "image/png": "[encoded data removed]",
      "text/plain": [
       "<Figure size 640x480 with 2 Axes>"
      ]
     },
     "metadata": {},
     "output_type": "display_data"
    }
   ],
   "source": [
    "ConfusionMatrixDisplay.from_estimator(nb_classifier, X_test, Y_test,\n",
    "                                      normalize='all', cmap=plt.cm.Blues,\n",
    "                                      values_format=\".2f\")"
   ]
  },
  {
   "cell_type": "markdown",
   "metadata": {
    "id": "xdb8GOD9LXa5",
    "slideshow": {
     "slide_type": "subslide"
    }
   },
   "source": [
    "### 3.3 SVC Classifier\n",
    "\n",
    "We consider another classifier: a Support Vector Machine (SVM)."
   ]
  },
  {
   "cell_type": "code",
   "execution_count": 59,
   "metadata": {
    "id": "lTnd0-X2b3ke",
    "scrolled": false,
    "slideshow": {
     "slide_type": "fragment"
    }
   },
   "outputs": [],
   "source": [
    "from sklearn.svm import LinearSVC\n",
    "\n",
    "svc_classifier = LinearSVC()\n",
    "\n",
    "svc_classifier.fit(X_train, Y_train)\n",
    "\n",
    "Y_pred_train_svc = svc_classifier.predict(X_train)\n",
    "Y_pred_test_svc = svc_classifier.predict(X_test)"
   ]
  },
  {
   "cell_type": "code",
   "execution_count": 60,
   "metadata": {
    "colab": {
     "base_uri": "https://localhost:8080/"
    },
    "id": "vG4oUWA0k3yS",
    "outputId": "9a626934-5030-4dd9-9d35-06fe8bb043e0",
    "scrolled": false,
    "slideshow": {
     "slide_type": "subslide"
    }
   },
   "outputs": [
    {
     "name": "stdout",
     "output_type": "stream",
     "text": [
      "              precision    recall  f1-score   support\n",
      "\n",
      "         neg       0.99      0.99      0.99     12500\n",
      "         pos       0.99      0.99      0.99     12500\n",
      "\n",
      "    accuracy                           0.99     25000\n",
      "   macro avg       0.99      0.99      0.99     25000\n",
      "weighted avg       0.99      0.99      0.99     25000\n",
      "\n",
      "              precision    recall  f1-score   support\n",
      "\n",
      "         neg       0.87      0.89      0.88     12500\n",
      "         pos       0.89      0.87      0.88     12500\n",
      "\n",
      "    accuracy                           0.88     25000\n",
      "   macro avg       0.88      0.88      0.88     25000\n",
      "weighted avg       0.88      0.88      0.88     25000\n",
      "\n"
     ]
    }
   ],
   "source": [
    "evaluate_classification(y_true=Y_train, y_pred=Y_pred_train_svc)\n",
    "evaluate_classification(y_true=Y_test, y_pred=Y_pred_test_svc)"
   ]
  },
  {
   "cell_type": "code",
   "execution_count": 61,
   "metadata": {
    "colab": {
     "base_uri": "https://localhost:8080/",
     "height": 820
    },
    "id": "OgtGYwjncFpn",
    "outputId": "1ea9fead-8fbc-4300-9545-7ed0ccce70de",
    "scrolled": true,
    "slideshow": {
     "slide_type": "subslide"
    }
   },
   "outputs": [
    {
     "data": {
      "text/plain": [
       "<sklearn.metrics._plot.precision_recall_curve.PrecisionRecallDisplay at 0x24d234ca060>"
      ]
     },
     "execution_count": 61,
     "metadata": {},
     "output_type": "execute_result"
    },
    {
     "data": {
      "image/png": "[encoded data removed]",
      "text/plain": [
       "<Figure size 640x480 with 1 Axes>"
      ]
     },
     "metadata": {},
     "output_type": "display_data"
    }
   ],
   "source": [
    "PrecisionRecallDisplay.from_estimator(svc_classifier, X_test, Y_test)"
   ]
  },
  {
   "cell_type": "code",
   "execution_count": 62,
   "metadata": {
    "scrolled": false,
    "slideshow": {
     "slide_type": "subslide"
    }
   },
   "outputs": [
    {
     "data": {
      "text/plain": [
       "<sklearn.metrics._plot.confusion_matrix.ConfusionMatrixDisplay at 0x24d21c59370>"
      ]
     },
     "execution_count": 62,
     "metadata": {},
     "output_type": "execute_result"
    },
    {
     "data": {
      "image/png": "[encoded data removed]",
      "text/plain": [
       "<Figure size 640x480 with 2 Axes>"
      ]
     },
     "metadata": {},
     "output_type": "display_data"
    }
   ],
   "source": [
    "ConfusionMatrixDisplay.from_estimator(svc_classifier, X_test,\n",
    "                                      Y_test, cmap=plt.cm.Blues)"
   ]
  },
  {
   "cell_type": "code",
   "execution_count": 63,
   "metadata": {
    "scrolled": false,
    "slideshow": {
     "slide_type": "subslide"
    }
   },
   "outputs": [
    {
     "data": {
      "text/plain": [
       "<sklearn.metrics._plot.confusion_matrix.ConfusionMatrixDisplay at 0x24d21c59e10>"
      ]
     },
     "execution_count": 63,
     "metadata": {},
     "output_type": "execute_result"
    },
    {
     "data": {
      "image/png": "[encoded data removed]",
      "text/plain": [
       "<Figure size 640x480 with 2 Axes>"
      ]
     },
     "metadata": {},
     "output_type": "display_data"
    }
   ],
   "source": [
    "ConfusionMatrixDisplay.from_estimator(svc_classifier, X_test, Y_test,\n",
    "                                      normalize='all', cmap=plt.cm.Blues,\n",
    "                                      values_format=\".2f\")"
   ]
  },
  {
   "cell_type": "markdown",
   "metadata": {
    "id": "TRLGlUAKSv0-",
    "slideshow": {
     "slide_type": "slide"
    }
   },
   "source": [
    "### 3.4 Error Analysis\n",
    "\n",
    "Let's try to understand what kind of errors are done by the model. \n",
    "\n",
    "We can look at specific cases of error."
   ]
  },
  {
   "cell_type": "code",
   "execution_count": 64,
   "metadata": {
    "id": "zBtBePtaTKlp",
    "scrolled": false,
    "slideshow": {
     "slide_type": "subslide"
    }
   },
   "outputs": [],
   "source": [
    "# confidence of the model\n",
    "confidence = svc_classifier.decision_function(X_test)\n",
    "\n",
    "fp_i = []\n",
    "fn_i = []\n",
    "fp_v = []\n",
    "fn_v = []\n",
    "fp_c = []\n",
    "fn_c = []\n",
    "\n",
    "for index, value in enumerate(Y_test):\n",
    "    # false positives\n",
    "    if value==0 and Y_pred_test_svc[index]==1:\n",
    "        fp_i.append(index)\n",
    "        fp_v.append(value)\n",
    "        fp_c.append(confidence[index])\n",
    "    # false negatives\n",
    "    elif value==1 and Y_pred_test_svc[index]==0:\n",
    "        fn_i.append(index)\n",
    "        fn_v.append(value)\n",
    "        fn_c.append(confidence[index])"
   ]
  },
  {
   "cell_type": "markdown",
   "metadata": {
    "id": "Ey4zy1ltVRoE",
    "slideshow": {
     "slide_type": "subslide"
    }
   },
   "source": [
    "Let's print some examples of FN and FP and the confidence in their classification"
   ]
  },
  {
   "cell_type": "code",
   "execution_count": 65,
   "metadata": {
    "colab": {
     "base_uri": "https://localhost:8080/"
    },
    "id": "dKNL64KsVUjF",
    "outputId": "a69982cf-c909-480d-d20f-4e70674a15e0",
    "scrolled": false,
    "slideshow": {
     "slide_type": "fragment"
    }
   },
   "outputs": [
    {
     "name": "stdout",
     "output_type": "stream",
     "text": [
      "FN\n",
      "Even if you're a fan of Jean Rollin's idiosyncratic body of work, you will be caught off guard by this exceptional foray into science fiction territory. For once, there's not a single diaphanously gowned vampire girl in sight ! True to tradition, the budget proved way too tight to realize the director's vision entirely. Yet this is largely compensated by his obvious love of genre cinema, dedication to his craft and sheer ingenuity. Jean-Claude Couty's atmospheric cinematography makes the most of the foreboding locations and Philippe Bréjean (a/k/a \"Gary Sandeur\") contributes a startling soundtrack that fortunately doesn't resemble any of the sappy stuff he composed for hardcore.<br /><br />Shot in and around a Paris office block before and after working hours, the film was largely cast with porn regulars Rollin was already quite familiar with from his \"Michel Gentil\" cash-gathering XXX efforts, most notably French f*ck film royalty Brigitte Lahaie in the demanding lead. Playing Elisabeth (rather well, I might add), she's picked up wandering a nearby highway one night by Robert (Vincent Gardère), driving home at the end of a long work day. Barely able to piece together the string of events that got her there, Elisabeth seems to lose her memories mere moments after events occur, even forgetting Robert's name and heroic savior role before their night flight comes to an end at his apartment. Prior to making love, she rightfully describes herself as a virgin (further credit to Brigitte's thespian skills that she can handle the line so convincingly, being after all one of the more active adult actresses of the '70s) because she cannot recall a single touch preceding his. Because of this nifty bit of context, the relatively long sex scene that follows totally eschews the gratuity of other \"commercial\" interludes Rollin has had to include in other works to assure funding.<br /><br />When Robert leaves for work, he's inevitably erased from Elisabeth's feeble mind. A mysterious doctor (comedian Bernard Papineau effectively cast against type) and his menacing assistant Solange (striking porn starlet Rachel Mhas) move in on her during her protector's absence and take her back to the place she turns out to have escaped from. Here we get one of the movie's strongest scenes as she's re-introduced to her roommate Catherine (the late Cathérine Greiner a/k/a hardcore performer \"Cathy Stewart\" in a quietly devastating turn), both girls desperately supplying fictitious shared \"memories\" for one another in a bid to outrun their inevitable fate. That deterioration is not solely limited to the mind becomes painfully clear when they are served lunch and Catherine's unable to control her movements in trying to eat a spoonful of soup. It's also Catherine who gets to voice the filmmaker's compromise with the demands of commerce as she urges Elisabeth to get naked and hold her because sex is all they have left now that both mind and physical faculties have deserted them.<br /><br />Several rather explicit - if not quite hardcore - sex scenes make up the movie's mid-section and French porn aficionados should recognize the likes of Alain Plumey (a/k/a \"Cyril Val\"), Jacques Gateau and Elodie Delage, along with a blink and miss bit from future porno princess Marilyn Jess whose rape at the hands, mouth and member of Plumey was only present in the film's rarely screened XXX version FILLES TRAQUEES. The pivotal part of Véronique, a girl Elisabeth almost seems to remember and whom she seeks to escape anew with, is beautifully handled by the exquisite Dominique Journet - in her unforgettable debut - who would go on to play a sizable supporting role in Franco Zeffirelli's LA TRAVIATA. The six feet under ending reveals the deteriorating condition to be the result of a nuclear spill, the quarantined \"patients\" ultimately leaving a barely breathing empty shell, unceremoniously disposed off in a fiery furnace. The final shot offers a particularly heartbreaking variation on that of Chaplin's MODERN TIMES as Elisabeth, approaching complete meltdown by now, and a wounded Robert stumble along the railroad bridge, clumsily clasping each other's outstretched hands.\n",
      "-0.21580993231017903\n"
     ]
    }
   ],
   "source": [
    "print(\"FN\")\n",
    "print(test_texts[fn_i[1]])\n",
    "print(fn_c[1])"
   ]
  },
  {
   "cell_type": "code",
   "execution_count": 66,
   "metadata": {
    "scrolled": true,
    "slideshow": {
     "slide_type": "subslide"
    }
   },
   "outputs": [
    {
     "name": "stdout",
     "output_type": "stream",
     "text": [
      "FP\n",
      "This tale of the upper-classes getting their come-uppance and wallowing in their high-class misery is like a contemporary Mid-Sommerish version of an old Joan Crawford movie in which she suffered in mink. Here, people behave in a frightfully civilized manner in the face of adversity. A well-heeled London solicitor, (Tom Wilkinson), discovers that not only is his wife having an affair with the local gentry but that she has also killed their housekeeper's husband in a hit-and-run accident. He throws up, but otherwise his stiff-upper-lip hardly quavers.<br /><br />Written and directed by Julian Fellowes, who won an Oscar for writing \"Gosford Park\", (this is his directorial debut), from a novel by Nigel Balchin, it's quite comical although I am not sure how much of the comedy is intended. It's like a throw-back to British films of the forties where characters all behaved like characters in books or plays rather than like people might in real life. However, it's not all bad. Wilkinson is terrific, even if you never believe in him as a person while Emily Watson, (the adulterous wife), and Rupert Everett, (the highly amoral high-class totty), are both very good at covering the cracks in the material. Tony Pierce-Roberts' cinematography ensures that no matter how hard it is on the ear it's always good on the eye.\n",
      "0.2247731275072216\n"
     ]
    }
   ],
   "source": [
    "print(\"FP\")\n",
    "print(test_texts[fp_i[5]])\n",
    "print(fp_c[5])"
   ]
  },
  {
   "cell_type": "markdown",
   "metadata": {
    "id": "BPVAEPWVcuOB",
    "slideshow": {
     "slide_type": "subslide"
    }
   },
   "source": [
    "We now check the sentences for which the classification error is bigger."
   ]
  },
  {
   "cell_type": "code",
   "execution_count": 67,
   "metadata": {
    "colab": {
     "base_uri": "https://localhost:8080/"
    },
    "id": "blgisqSqc45b",
    "outputId": "7d8d9e0d-5e60-4fa0-de60-070257e71776",
    "scrolled": false,
    "slideshow": {
     "slide_type": "fragment"
    }
   },
   "outputs": [
    {
     "name": "stdout",
     "output_type": "stream",
     "text": [
      "This movie was pure genius. John Waters is brilliant. It is hilarious and I am not sick of it even after seeing it about 20 times since I bought it a few months ago. The acting is great, although Ricki Lake could have been better. And Johnny Depp is magnificent. He is such a beautiful man and a very talented actor. And seeing most of Johnny's movies, this is probably my favorite. I give it 9.5/10. Rent it today!\n",
      "2.070316252687478\n"
     ]
    }
   ],
   "source": [
    "max_fp = fp_c.index(max(fp_c))\n",
    "print(test_texts[fp_i[max_fp]])\n",
    "print(fp_c[max_fp])"
   ]
  },
  {
   "cell_type": "code",
   "execution_count": 68,
   "metadata": {
    "slideshow": {
     "slide_type": "subslide"
    }
   },
   "outputs": [
    {
     "name": "stdout",
     "output_type": "stream",
     "text": [
      "All I can do is echo the sentiment already expressed by some of the other commenters. This is CITY OF GOD meets HAPPY DAYS. The bipolarity of the ruthless thug (one minute a ruthless killer, the next minute a Luv's diaper commercial) is completely unconvincing. You can approach it in one of two ways: (1) A gritty, realistic movie turned sappy; or (2) a sappy, ABC-afterschool-special with profanity, violence and animal cruelty. Either way it just don't fly, do it? Why then has it received so much praise? As others have implied, it gets the \"conscience vote\" from the west. Show us pictures of poverty to contrast against our fluffy, double-wide theatre seats and 44-oz cokes, and we'll applaud in a heartbeat. But--oh--don't forget to candy coat it, because the bitter pill of reality (tantalizing as it is) is hard for us to swallow.<br /><br />I'm terribly disappointed that this film would receive so many awards and accolades, especially when there are far more deserving works of film out there. All I can say is: beware of any film that receives awards (Hollywood Oscars = sweeping, syrupy tripe. Cannes Film Festival = beard-stroking, artless propaganda). To find the real gems, you'll have to work hard at it.\n",
      "-1.9518717415231375\n"
     ]
    }
   ],
   "source": [
    "# for false negatives the confidence is negative\n",
    "max_fn = fn_c.index(min(fn_c))\n",
    "print(test_texts[fp_i[max_fn]])\n",
    "print(fn_c[max_fn])"
   ]
  },
  {
   "cell_type": "markdown",
   "metadata": {
    "slideshow": {
     "slide_type": "subslide"
    }
   },
   "source": [
    "Let's now consider the stemmed and lemmatized versions of our input features."
   ]
  },
  {
   "cell_type": "code",
   "execution_count": 69,
   "metadata": {
    "scrolled": false,
    "slideshow": {
     "slide_type": "fragment"
    }
   },
   "outputs": [],
   "source": [
    "svc_classifier_st = LinearSVC()\n",
    "\n",
    "svc_classifier_st.fit(st_X_train, Y_train)\n",
    "\n",
    "Y_pred_train_svc_st = svc_classifier_st.predict(st_X_train)\n",
    "Y_pred_test_svc_st = svc_classifier_st.predict(st_X_test)"
   ]
  },
  {
   "cell_type": "code",
   "execution_count": 70,
   "metadata": {
    "scrolled": false,
    "slideshow": {
     "slide_type": "subslide"
    }
   },
   "outputs": [
    {
     "name": "stdout",
     "output_type": "stream",
     "text": [
      "              precision    recall  f1-score   support\n",
      "\n",
      "         neg       0.99      0.99      0.99     12500\n",
      "         pos       0.99      0.99      0.99     12500\n",
      "\n",
      "    accuracy                           0.99     25000\n",
      "   macro avg       0.99      0.99      0.99     25000\n",
      "weighted avg       0.99      0.99      0.99     25000\n",
      "\n",
      "              precision    recall  f1-score   support\n",
      "\n",
      "         neg       0.87      0.88      0.87     12500\n",
      "         pos       0.88      0.86      0.87     12500\n",
      "\n",
      "    accuracy                           0.87     25000\n",
      "   macro avg       0.87      0.87      0.87     25000\n",
      "weighted avg       0.87      0.87      0.87     25000\n",
      "\n"
     ]
    }
   ],
   "source": [
    "evaluate_classification(y_true=Y_train, y_pred=Y_pred_train_svc_st)\n",
    "evaluate_classification(y_true=Y_test, y_pred=Y_pred_test_svc_st)"
   ]
  },
  {
   "cell_type": "code",
   "execution_count": 71,
   "metadata": {
    "scrolled": false,
    "slideshow": {
     "slide_type": "subslide"
    }
   },
   "outputs": [],
   "source": [
    "svc_classifier_lem = LinearSVC()\n",
    "\n",
    "svc_classifier_lem.fit(lem_X_train, Y_train)\n",
    "\n",
    "Y_pred_train_svc_lem = svc_classifier_lem.predict(lem_X_train)\n",
    "Y_pred_test_svc_lem = svc_classifier_lem.predict(lem_X_test)"
   ]
  },
  {
   "cell_type": "code",
   "execution_count": 72,
   "metadata": {
    "scrolled": false,
    "slideshow": {
     "slide_type": "subslide"
    }
   },
   "outputs": [
    {
     "name": "stdout",
     "output_type": "stream",
     "text": [
      "              precision    recall  f1-score   support\n",
      "\n",
      "         neg       0.99      0.99      0.99     12500\n",
      "         pos       0.99      0.99      0.99     12500\n",
      "\n",
      "    accuracy                           0.99     25000\n",
      "   macro avg       0.99      0.99      0.99     25000\n",
      "weighted avg       0.99      0.99      0.99     25000\n",
      "\n",
      "              precision    recall  f1-score   support\n",
      "\n",
      "         neg       0.86      0.88      0.87     12500\n",
      "         pos       0.88      0.86      0.87     12500\n",
      "\n",
      "    accuracy                           0.87     25000\n",
      "   macro avg       0.87      0.87      0.87     25000\n",
      "weighted avg       0.87      0.87      0.87     25000\n",
      "\n"
     ]
    }
   ],
   "source": [
    "evaluate_classification(y_true=Y_train, y_pred=Y_pred_train_svc_lem)\n",
    "evaluate_classification(y_true=Y_test, y_pred=Y_pred_test_svc_lem)"
   ]
  },
  {
   "cell_type": "markdown",
   "metadata": {
    "slideshow": {
     "slide_type": "subslide"
    }
   },
   "source": [
    "### 3.4.1 Comparisons\n",
    "\n",
    "Let's organize our results in a Table to better compare models."
   ]
  },
  {
   "cell_type": "markdown",
   "metadata": {
    "slideshow": {
     "slide_type": "fragment"
    }
   },
   "source": [
    "| Model       | F1-macro |\n",
    "| ---         | ---      |\n",
    "| Random      | .50      |\n",
    "| Majority    | .33      |\n",
    "| NB          |  .83     |\n",
    "| SVM         | **.88**      |\n",
    "| SVM w/ Stem | .87      |\n",
    "| SVM w/ Lem  | .87      |"
   ]
  },
  {
   "cell_type": "markdown",
   "metadata": {
    "slideshow": {
     "slide_type": "fragment"
    }
   },
   "source": [
    "#### Homework\n",
    "\n",
    "Try out the NB classifier with Stemmed and Lemmatized input features, respectively.\n",
    "\n",
    "What do you observe?"
   ]
  },
  {
   "cell_type": "markdown",
   "metadata": {
    "id": "UbzMCMfprp3m",
    "slideshow": {
     "slide_type": "slide"
    }
   },
   "source": [
    "# The End!"
   ]
  }
 ],
 "metadata": {
  "celltoolbar": "Slideshow",
  "colab": {
   "collapsed_sections": [],
   "provenance": []
  },
  "kernelspec": {
   "display_name": "nlp",
   "language": "python",
   "name": "python3"
  },
  "language_info": {
   "codemirror_mode": {
    "name": "ipython",
    "version": 3
   },
   "file_extension": ".py",
   "mimetype": "text/x-python",
   "name": "python",
   "nbconvert_exporter": "python",
   "pygments_lexer": "ipython3",
   "version": "3.13.7"
  }
 },
 "nbformat": 4,
 "nbformat_minor": 4
}
